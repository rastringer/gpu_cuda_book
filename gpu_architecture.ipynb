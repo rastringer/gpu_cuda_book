{
  "cells": [
    {
      "cell_type": "markdown",
      "metadata": {
        "colab_type": "text",
        "id": "view-in-github"
      },
      "source": [
        "<a href=\"https://colab.research.google.com/github/rastringer/GPU_CUDA_overview/blob/main/gpu_architecture.ipynb\" target=\"_parent\"><img src=\"https://colab.research.google.com/assets/colab-badge.svg\" alt=\"Open In Colab\"/></a>"
      ]
    },
    {
      "cell_type": "markdown",
      "metadata": {
        "id": "eQHsOQQ8EWVa"
      },
      "source": [
        "## Getting to know the device and platform\n",
        "\n",
        "GPUs are designed to tackle tasks that can be expressed as data-parallel computations, such as:\n",
        "\n",
        "* genomics\n",
        "\n",
        "* data analytics\n",
        "\n",
        "* rendering pixels and verticies in graphics\n",
        "\n",
        "* video encoding and decoding\n",
        "\n",
        "* arithmetic operations eg matrix multiplications for neural networks\n",
        "\n",
        "When getting to know the device, it can be helpful to have a quick look at PTX, SASS, warps, cooperative groups, Tensor Cores and memory hierarchy."
      ]
    },
    {
      "cell_type": "markdown",
      "metadata": {
        "id": "GC1urszRbAzy"
      },
      "source": [
        "## Abstractions\n",
        "\n",
        "CUDA, or \"Compute Unite Device Architecture\" as it was introduced in 2006, is a parallel computing platform and programming model that uses the parallel engine in NVIDIA GPUs to solve computational tasks.\n",
        "\n",
        "There are three principal abstractions:\n",
        "\n",
        "* hierarchy of thread groups\n",
        "* shared memories\n",
        "* barrier synchronization\n",
        "\n",
        "Basically CUDA allows developers to partition problems into sub-problems that can be solved by *threads* running in parallel, in *blocks*. Threads all run the same code, and an ID for each thread allows access to memory addresses and control decisions.\n",
        "\n",
        "Threads are arranged as a *grid* of *thread blocks*."
      ]
    },
    {
      "cell_type": "markdown",
      "metadata": {
        "id": "IBHjgZX4FxlI"
      },
      "source": [
        "## PTX\n",
        "\n",
        "PTX is a low-level, *parallel thread execution* virtual machine and instruction set architecture (ISA). In other words, it is a paradigm that leverages the GPU as a data-parallel computing device.\n",
        "\n",
        "### Programming model\n",
        "\n",
        "PTX's programming model is parallel: it specifies the execution of a given thread of a parallel thread array. A CTA, or *cooperative thread array*, is an array of threads that execute a kernel concurrently or in parallel.\n",
        "\n",
        "## SASS\n",
        "\n",
        "SASS is the low-level assembly language that compiles to binary microcode, which executes natively on NVIDIA GPUs.\n",
        "\n"
      ]
    },
    {
      "cell_type": "markdown",
      "metadata": {
        "id": "mvCPSniGTQ7W"
      },
      "source": [
        "<img src=\"https://github.com/rastringer/GPU_CUDA_overview/blob/main/images/gpu_arch1.png?raw=true\" width=\"1000\"/>"
      ]
    },
    {
      "cell_type": "markdown",
      "metadata": {
        "id": "XUT7pzQmmv3t"
      },
      "source": [
        "## High level architecture\n",
        "\n",
        "GPUs have highly parallel processor architecture, comprising processing elements and memory hierarchy. Streaming processors do work on data, and that data and code are accessed from the high bandwidth memory (HMB3 in the diagram) via the L2 cache.\n",
        "\n",
        "The A100 GPU, for example, has 108 SMs, a 40MB L2 cache, and up to 2039 GB/s bandwidth from 80GB of HBM2 memory.\n",
        "\n",
        "*NVLink Network Interconnect* enables GPU-to-GPU communication among up to 256 GPUs across multiple compute nodes."
      ]
    },
    {
      "cell_type": "markdown",
      "metadata": {
        "id": "FmE-pVJ-ldOW"
      },
      "source": [
        "## Streaming multiprocessors"
      ]
    },
    {
      "cell_type": "markdown",
      "metadata": {
        "id": "FNz0nGyWaO4F"
      },
      "source": [
        "<img src=\"https://github.com/rastringer/GPU_CUDA_overview/blob/main/images/gpu_arch2.png?raw=true\" width=\"1000\" />"
      ]
    },
    {
      "cell_type": "markdown",
      "metadata": {
        "id": "Yyvs0uHzlo4C"
      },
      "source": [
        "Each Streaming Multiprocessor has a set of execution units, a reguster file and some shared memory.\n",
        "\n",
        "We also notice the *warp scheduler* - this is a basic unit of execution and a collection of threads. Typically these are groups of 32 threads, which are executed together by a SM.\n",
        "\n",
        "*Tensor Cores* are specialized units focused on speeding up deep learning workloads. They accel at mixed-precision matrix multiply and gradient accumulation calculations.\n",
        "\n",
        "## TeraFlops\n",
        "\n",
        "It's worth familiarizing ourselves with TFLOPS, which stands for Trillion Floating Point Operations Per Second. This is commonly used to measure the performance of GPUs.\n",
        "\n",
        "1 TFLOP = 1 trillion floating point calculations per second (what's a floating point? Just a number with a decimal eg 1.2 or 12.3456)\n",
        "\n",
        "The H100 with SXM% board form-factor can perform 133.8 TFLOPs on FP16 inputs.\n",
        "FP16 just means *half precision*, or 1 bit for sign (+, -), 5 bits for the exponent, and 10 bits for decimal precision. This is a very popular format for AI training and inference, since a minimal drop in accuracy also means better speed and memory efficiency."
      ]
    }
  ],
  "metadata": {
    "colab": {
      "authorship_tag": "ABX9TyOcZeIyb7m9Ggg5lbIVkA6O",
      "include_colab_link": true,
      "provenance": []
    },
    "kernelspec": {
      "display_name": "Python 3",
      "name": "python3"
    },
    "language_info": {
      "name": "python"
    }
  },
  "nbformat": 4,
  "nbformat_minor": 0
}
